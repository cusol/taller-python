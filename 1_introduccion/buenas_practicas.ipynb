{
 "cells": [
  {
   "cell_type": "markdown",
   "metadata": {},
   "source": [
    "# Buenas Prácticas de Programación en Python\n",
    "\n",
    "Hya 3 partes principales que definen las normas de estilo a seguir en el desarrollo de codigo de Python:\n",
    "\n",
    "* [PEP 8 -- Style Guide for Python Code](https://www.python.org/dev/peps/pep-0008/)\n",
    "* [PEP 257 -- Docstring Conventions](https://www.python.org/dev/peps/pep-0257/)\n",
    "* [PEP 20 -- The Zen of Python](https://www.python.org/dev/peps/pep-0020/)\n"
   ]
  },
  {
   "cell_type": "markdown",
   "metadata": {},
   "source": [
    "## PEP 8 -- Guia de estilo para codigo de Python\n",
    "\n",
    "_Generalmente el codigo es leido más veces de las que es escrito_"
   ]
  },
  {
   "cell_type": "markdown",
   "metadata": {},
   "source": [
    "### Identación\n",
    "\n",
    "- Usara 4 espacios por nivel de identacion\n",
    "- No mezclar espacios y tabulaciones"
   ]
  },
  {
   "cell_type": "markdown",
   "metadata": {},
   "source": [
    "### Maxima longitud de la linea\n",
    "\n",
    "Limitar las lineas a un maximo de 79 caracteres"
   ]
  },
  {
   "cell_type": "markdown",
   "metadata": {},
   "source": [
    "###  Codificación de los archivos\n",
    "\n",
    "* Usar *UTF-8* en Python3\n",
    "* Es aconsejado usar solamente caracteres ASCCI en identificadores y prefereiblemente palabras del inglés"
   ]
  },
  {
   "cell_type": "markdown",
   "metadata": {},
   "source": [
    "### Imports\n",
    "\n",
    "1. libreria estandar\n",
    "2. librerias de terceros\n",
    "3. librerias locales"
   ]
  },
  {
   "cell_type": "code",
   "execution_count": null,
   "metadata": {
    "collapsed": true
   },
   "outputs": [],
   "source": [
    "from math import pi\n",
    "from collections import namedtuple\n",
    "\n",
    "import numpy as np\n",
    "\n",
    "import milibreria"
   ]
  },
  {
   "cell_type": "markdown",
   "metadata": {},
   "source": [
    "no usar imports con asterico"
   ]
  },
  {
   "cell_type": "code",
   "execution_count": null,
   "metadata": {
    "collapsed": true
   },
   "outputs": [],
   "source": [
    "from numpy import *"
   ]
  },
  {
   "cell_type": "markdown",
   "metadata": {},
   "source": [
    "### Espacios en blanco"
   ]
  },
  {
   "cell_type": "markdown",
   "metadata": {},
   "source": [
    "No usar espacios innecesarios y extraños"
   ]
  },
  {
   "cell_type": "code",
   "execution_count": null,
   "metadata": {
    "collapsed": true
   },
   "outputs": [],
   "source": [
    "# Yes\n",
    "open('documento.txt', 'r')\n",
    "\n",
    "# No\n",
    "open( 'documento.txt', 'r' )\n",
    "\n",
    "# No\n",
    "open('documento.txt' , 'r')\n",
    "\n",
    "#No\n",
    "open ('documento.txt', 'r')"
   ]
  },
  {
   "cell_type": "code",
   "execution_count": null,
   "metadata": {
    "collapsed": true
   },
   "outputs": [],
   "source": [
    "# Yes \n",
    "x = 1\n",
    "y = 2\n",
    "distance = 3\n",
    "\n",
    "# No\n",
    "x        = 1\n",
    "y        = 2\n",
    "distance = 3"
   ]
  },
  {
   "cell_type": "code",
   "execution_count": null,
   "metadata": {
    "collapsed": false
   },
   "outputs": [],
   "source": [
    "# Yes\n",
    "i = i + 1\n",
    "h = x*x + y*y\n",
    "h = (a+b) * (a-b)\n",
    "\n",
    "# No\n",
    "i=i+1\n",
    "h = x * x+y * y\n",
    "h = (a + b)*(a - b)"
   ]
  },
  {
   "cell_type": "markdown",
   "metadata": {},
   "source": [
    "### Comentarios\n",
    "\n",
    "Los comentarios deben ser utiles, y no decir cosas obvias"
   ]
  },
  {
   "cell_type": "code",
   "execution_count": null,
   "metadata": {
    "collapsed": true
   },
   "outputs": [],
   "source": [
    "# No\n",
    "x = x + 1                 # Incrementar x\n",
    "\n",
    "# Yes\n",
    "x = x + 1                 # Compensar el borde"
   ]
  },
  {
   "cell_type": "markdown",
   "metadata": {
    "collapsed": true
   },
   "source": [
    "### Nombres de variables\n",
    "\n",
    "* Descriptivos\n",
    "* Variables y funciones: minusculas_con_guion_piso\n",
    "* Clases: CamelCase\n",
    "* Constantes: MAYUSCULAS_CON_GUIONES"
   ]
  },
  {
   "cell_type": "code",
   "execution_count": null,
   "metadata": {
    "collapsed": true
   },
   "outputs": [],
   "source": [
    "area_triangulo = (base * altura) / 2\n",
    "\n",
    "def calcular_area():\n",
    "    pass\n",
    "\n",
    "class TrianguloEquilatero()\n",
    "    pass\n",
    "\n",
    "PI = 3.141516"
   ]
  },
  {
   "cell_type": "markdown",
   "metadata": {
    "collapsed": true
   },
   "source": [
    "## PEP 257 -- Convenciones de la Documentación"
   ]
  },
  {
   "cell_type": "code",
   "execution_count": null,
   "metadata": {
    "collapsed": true
   },
   "outputs": [],
   "source": [
    "def complex(real=0.0, imag=0.0):\n",
    "    \"\"\"Form a complex number.\n",
    "\n",
    "    Keyword arguments:\n",
    "    real -- the real part (default 0.0)\n",
    "    imag -- the imaginary part (default 0.0)\n",
    "    \"\"\"\n",
    "    if imag == 0.0 and real == 0.0:\n",
    "        return complex_zero"
   ]
  },
  {
   "cell_type": "markdown",
   "metadata": {},
   "source": [
    "## PEP 20 -- El Zen de Python"
   ]
  },
  {
   "cell_type": "code",
   "execution_count": null,
   "metadata": {
    "collapsed": false
   },
   "outputs": [],
   "source": [
    "import this"
   ]
  },
  {
   "cell_type": "markdown",
   "metadata": {},
   "source": [
    "Hermoso es mejor que feo.  \n",
    "Explícito es mejor que implícito.  \n",
    "Simple es mejor que complejo.  \n",
    "Complejo es mejor que complicado.  \n",
    "Plano es mejor que anidado.  \n",
    "Escaso es mejor que denso.  \n",
    "Cuenta la legibilidad.  \n",
    "Los casos especiales no son lo suficientemente especial como para romper las reglas.  \n",
    "Aunque sentido práctico supera pureza.  \n",
    "Los errores nunca debe pasar en silencio.  \n",
    "A menos que explícitamente silenciados.  \n",
    "Ante la ambigüedad, rechaza la tentación de adivinar.  \n",
    "Debería haber una - y preferiblemente sólo una - manera obvia de hacerlo.  \n",
    "Aunque esa manera puede no ser obvia al principio a menos que seas holandés.  \n",
    "Ahora es mejor que nunca.  \n",
    "Aunque nunca es a menudo mejor que la * justo * ahora.  \n",
    "Si la implementación es difícil de explicar, es una mala idea.  \n",
    "Si la implementación es fácil de explicar, puede ser una buena idea.  \n",
    "Namespaces son una gran idea de fanfarria  - Vamos a hacer más de esos!"
   ]
  }
 ],
 "metadata": {
  "kernelspec": {
   "display_name": "Python 3",
   "language": "python",
   "name": "python3"
  },
  "language_info": {
   "codemirror_mode": {
    "name": "ipython",
    "version": 3
   },
   "file_extension": ".py",
   "mimetype": "text/x-python",
   "name": "python",
   "nbconvert_exporter": "python",
   "pygments_lexer": "ipython3",
   "version": "3.5.2"
  }
 },
 "nbformat": 4,
 "nbformat_minor": 0
}
